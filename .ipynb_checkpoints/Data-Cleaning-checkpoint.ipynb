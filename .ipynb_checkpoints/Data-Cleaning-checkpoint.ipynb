{
 "cells": [
  {
   "cell_type": "code",
   "execution_count": 62,
   "id": "0fcd4605",
   "metadata": {},
   "outputs": [],
   "source": [
    "import pandas as pd\n",
    "import numpy as np\n",
    "from scipy import stats\n",
    "from sklearn.preprocessing import StandardScaler"
   ]
  },
  {
   "cell_type": "code",
   "execution_count": 2,
   "id": "b85a91d1",
   "metadata": {},
   "outputs": [],
   "source": [
    "data = pd.read_csv('Manhattan12.csv')"
   ]
  },
  {
   "cell_type": "code",
   "execution_count": 3,
   "id": "e4e13794",
   "metadata": {},
   "outputs": [
    {
     "data": {
      "text/plain": [
       "Manhattan Rolling Sales File.  All Sales From August 2012 - August 2013.     0\n",
       "Unnamed: 1                                                                   3\n",
       "Unnamed: 2                                                                   3\n",
       "Unnamed: 3                                                                   3\n",
       "Unnamed: 4                                                                   3\n",
       "Unnamed: 5                                                                   3\n",
       "Unnamed: 6                                                                   3\n",
       "Unnamed: 7                                                                   3\n",
       "Unnamed: 8                                                                   3\n",
       "Unnamed: 9                                                                   3\n",
       "Unnamed: 10                                                                  3\n",
       "Unnamed: 11                                                                  3\n",
       "Unnamed: 12                                                                  3\n",
       "Unnamed: 13                                                                  3\n",
       "Unnamed: 14                                                                  3\n",
       "Unnamed: 15                                                                  3\n",
       "Unnamed: 16                                                                  3\n",
       "Unnamed: 17                                                                  3\n",
       "Unnamed: 18                                                                  3\n",
       "Unnamed: 19                                                                  3\n",
       "Unnamed: 20                                                                  3\n",
       "dtype: int64"
      ]
     },
     "execution_count": 3,
     "metadata": {},
     "output_type": "execute_result"
    }
   ],
   "source": [
    "data.isnull().sum()"
   ]
  },
  {
   "cell_type": "code",
   "execution_count": 4,
   "id": "4155ec1b",
   "metadata": {},
   "outputs": [
    {
     "data": {
      "text/html": [
       "<div>\n",
       "<style scoped>\n",
       "    .dataframe tbody tr th:only-of-type {\n",
       "        vertical-align: middle;\n",
       "    }\n",
       "\n",
       "    .dataframe tbody tr th {\n",
       "        vertical-align: top;\n",
       "    }\n",
       "\n",
       "    .dataframe thead th {\n",
       "        text-align: right;\n",
       "    }\n",
       "</style>\n",
       "<table border=\"1\" class=\"dataframe\">\n",
       "  <thead>\n",
       "    <tr style=\"text-align: right;\">\n",
       "      <th></th>\n",
       "      <th>Manhattan Rolling Sales File.  All Sales From August 2012 - August 2013.</th>\n",
       "      <th>Unnamed: 1</th>\n",
       "      <th>Unnamed: 2</th>\n",
       "      <th>Unnamed: 3</th>\n",
       "      <th>Unnamed: 4</th>\n",
       "      <th>Unnamed: 5</th>\n",
       "      <th>Unnamed: 6</th>\n",
       "      <th>Unnamed: 7</th>\n",
       "      <th>Unnamed: 8</th>\n",
       "      <th>Unnamed: 9</th>\n",
       "      <th>...</th>\n",
       "      <th>Unnamed: 11</th>\n",
       "      <th>Unnamed: 12</th>\n",
       "      <th>Unnamed: 13</th>\n",
       "      <th>Unnamed: 14</th>\n",
       "      <th>Unnamed: 15</th>\n",
       "      <th>Unnamed: 16</th>\n",
       "      <th>Unnamed: 17</th>\n",
       "      <th>Unnamed: 18</th>\n",
       "      <th>Unnamed: 19</th>\n",
       "      <th>Unnamed: 20</th>\n",
       "    </tr>\n",
       "  </thead>\n",
       "  <tbody>\n",
       "    <tr>\n",
       "      <th>0</th>\n",
       "      <td>Sales File as of 08/30/2013  Coop Sales Files ...</td>\n",
       "      <td>NaN</td>\n",
       "      <td>NaN</td>\n",
       "      <td>NaN</td>\n",
       "      <td>NaN</td>\n",
       "      <td>NaN</td>\n",
       "      <td>NaN</td>\n",
       "      <td>NaN</td>\n",
       "      <td>NaN</td>\n",
       "      <td>NaN</td>\n",
       "      <td>...</td>\n",
       "      <td>NaN</td>\n",
       "      <td>NaN</td>\n",
       "      <td>NaN</td>\n",
       "      <td>NaN</td>\n",
       "      <td>NaN</td>\n",
       "      <td>NaN</td>\n",
       "      <td>NaN</td>\n",
       "      <td>NaN</td>\n",
       "      <td>NaN</td>\n",
       "      <td>NaN</td>\n",
       "    </tr>\n",
       "    <tr>\n",
       "      <th>1</th>\n",
       "      <td>Neighborhood Name 09/06/13, Descriptive Data i...</td>\n",
       "      <td>NaN</td>\n",
       "      <td>NaN</td>\n",
       "      <td>NaN</td>\n",
       "      <td>NaN</td>\n",
       "      <td>NaN</td>\n",
       "      <td>NaN</td>\n",
       "      <td>NaN</td>\n",
       "      <td>NaN</td>\n",
       "      <td>NaN</td>\n",
       "      <td>...</td>\n",
       "      <td>NaN</td>\n",
       "      <td>NaN</td>\n",
       "      <td>NaN</td>\n",
       "      <td>NaN</td>\n",
       "      <td>NaN</td>\n",
       "      <td>NaN</td>\n",
       "      <td>NaN</td>\n",
       "      <td>NaN</td>\n",
       "      <td>NaN</td>\n",
       "      <td>NaN</td>\n",
       "    </tr>\n",
       "    <tr>\n",
       "      <th>2</th>\n",
       "      <td>Building Class Category is based on Building C...</td>\n",
       "      <td>NaN</td>\n",
       "      <td>NaN</td>\n",
       "      <td>NaN</td>\n",
       "      <td>NaN</td>\n",
       "      <td>NaN</td>\n",
       "      <td>NaN</td>\n",
       "      <td>NaN</td>\n",
       "      <td>NaN</td>\n",
       "      <td>NaN</td>\n",
       "      <td>...</td>\n",
       "      <td>NaN</td>\n",
       "      <td>NaN</td>\n",
       "      <td>NaN</td>\n",
       "      <td>NaN</td>\n",
       "      <td>NaN</td>\n",
       "      <td>NaN</td>\n",
       "      <td>NaN</td>\n",
       "      <td>NaN</td>\n",
       "      <td>NaN</td>\n",
       "      <td>NaN</td>\n",
       "    </tr>\n",
       "    <tr>\n",
       "      <th>3</th>\n",
       "      <td>BOROUGH</td>\n",
       "      <td>NEIGHBORHOOD</td>\n",
       "      <td>BUILDING CLASS CATEGORY</td>\n",
       "      <td>TAX CLASS AT PRESENT</td>\n",
       "      <td>BLOCK</td>\n",
       "      <td>LOT</td>\n",
       "      <td>EASE-MENT</td>\n",
       "      <td>BUILDING CLASS AT PRESENT</td>\n",
       "      <td>ADDRESS</td>\n",
       "      <td>APART\\r\\nMENT\\r\\nNUMBER</td>\n",
       "      <td>...</td>\n",
       "      <td>RESIDENTIAL UNITS</td>\n",
       "      <td>COMMERCIAL UNITS</td>\n",
       "      <td>TOTAL UNITS</td>\n",
       "      <td>LAND SQUARE FEET</td>\n",
       "      <td>GROSS SQUARE FEET</td>\n",
       "      <td>YEAR BUILT</td>\n",
       "      <td>TAX CLASS AT TIME OF SALE</td>\n",
       "      <td>BUILDING CLASS AT TIME OF SALE</td>\n",
       "      <td>SALE\\r\\nPRICE</td>\n",
       "      <td>SALE DATE</td>\n",
       "    </tr>\n",
       "    <tr>\n",
       "      <th>4</th>\n",
       "      <td>1</td>\n",
       "      <td></td>\n",
       "      <td>13  CONDOS - ELEVATOR APARTMENTS</td>\n",
       "      <td></td>\n",
       "      <td>738</td>\n",
       "      <td>1306</td>\n",
       "      <td></td>\n",
       "      <td></td>\n",
       "      <td>345 WEST 14TH   STREET</td>\n",
       "      <td></td>\n",
       "      <td>...</td>\n",
       "      <td>0</td>\n",
       "      <td>0</td>\n",
       "      <td>0</td>\n",
       "      <td>0</td>\n",
       "      <td>0</td>\n",
       "      <td>0</td>\n",
       "      <td>2</td>\n",
       "      <td>R4</td>\n",
       "      <td>$2,214,693</td>\n",
       "      <td>20/05/2013</td>\n",
       "    </tr>\n",
       "  </tbody>\n",
       "</table>\n",
       "<p>5 rows × 21 columns</p>\n",
       "</div>"
      ],
      "text/plain": [
       "  Manhattan Rolling Sales File.  All Sales From August 2012 - August 2013.   \\\n",
       "0  Sales File as of 08/30/2013  Coop Sales Files ...                          \n",
       "1  Neighborhood Name 09/06/13, Descriptive Data i...                          \n",
       "2  Building Class Category is based on Building C...                          \n",
       "3                                            BOROUGH                          \n",
       "4                                                  1                          \n",
       "\n",
       "                  Unnamed: 1                                    Unnamed: 2  \\\n",
       "0                        NaN                                           NaN   \n",
       "1                        NaN                                           NaN   \n",
       "2                        NaN                                           NaN   \n",
       "3               NEIGHBORHOOD                       BUILDING CLASS CATEGORY   \n",
       "4                             13  CONDOS - ELEVATOR APARTMENTS               \n",
       "\n",
       "             Unnamed: 3 Unnamed: 4 Unnamed: 5 Unnamed: 6  \\\n",
       "0                   NaN        NaN        NaN        NaN   \n",
       "1                   NaN        NaN        NaN        NaN   \n",
       "2                   NaN        NaN        NaN        NaN   \n",
       "3  TAX CLASS AT PRESENT      BLOCK        LOT  EASE-MENT   \n",
       "4                              738       1306              \n",
       "\n",
       "                  Unnamed: 7                                   Unnamed: 8  \\\n",
       "0                        NaN                                          NaN   \n",
       "1                        NaN                                          NaN   \n",
       "2                        NaN                                          NaN   \n",
       "3  BUILDING CLASS AT PRESENT                                      ADDRESS   \n",
       "4                              345 WEST 14TH   STREET                       \n",
       "\n",
       "                Unnamed: 9  ...        Unnamed: 11       Unnamed: 12  \\\n",
       "0                      NaN  ...                NaN               NaN   \n",
       "1                      NaN  ...                NaN               NaN   \n",
       "2                      NaN  ...                NaN               NaN   \n",
       "3  APART\\r\\nMENT\\r\\nNUMBER  ...  RESIDENTIAL UNITS  COMMERCIAL UNITS   \n",
       "4                           ...                  0                 0   \n",
       "\n",
       "   Unnamed: 13       Unnamed: 14        Unnamed: 15 Unnamed: 16  \\\n",
       "0          NaN               NaN                NaN         NaN   \n",
       "1          NaN               NaN                NaN         NaN   \n",
       "2          NaN               NaN                NaN         NaN   \n",
       "3  TOTAL UNITS  LAND SQUARE FEET  GROSS SQUARE FEET  YEAR BUILT   \n",
       "4            0                 0                  0           0   \n",
       "\n",
       "                 Unnamed: 17                     Unnamed: 18    Unnamed: 19  \\\n",
       "0                        NaN                             NaN            NaN   \n",
       "1                        NaN                             NaN            NaN   \n",
       "2                        NaN                             NaN            NaN   \n",
       "3  TAX CLASS AT TIME OF SALE  BUILDING CLASS AT TIME OF SALE  SALE\\r\\nPRICE   \n",
       "4                         2                              R4      $2,214,693   \n",
       "\n",
       "  Unnamed: 20  \n",
       "0         NaN  \n",
       "1         NaN  \n",
       "2         NaN  \n",
       "3   SALE DATE  \n",
       "4  20/05/2013  \n",
       "\n",
       "[5 rows x 21 columns]"
      ]
     },
     "execution_count": 4,
     "metadata": {},
     "output_type": "execute_result"
    }
   ],
   "source": [
    "data.head()"
   ]
  },
  {
   "cell_type": "markdown",
   "id": "74014f6e",
   "metadata": {},
   "source": [
    "### Showing the shape of the dataset"
   ]
  },
  {
   "cell_type": "code",
   "execution_count": 5,
   "id": "a9415866",
   "metadata": {},
   "outputs": [
    {
     "data": {
      "text/plain": [
       "(27399, 21)"
      ]
     },
     "execution_count": 5,
     "metadata": {},
     "output_type": "execute_result"
    }
   ],
   "source": [
    "data.shape"
   ]
  },
  {
   "cell_type": "markdown",
   "id": "92edf060",
   "metadata": {},
   "source": [
    "### Rename incorrectly formatted column names "
   ]
  },
  {
   "cell_type": "code",
   "execution_count": 6,
   "id": "76212778",
   "metadata": {},
   "outputs": [
    {
     "name": "stderr",
     "output_type": "stream",
     "text": [
      "c:\\users\\seikh\\appdata\\local\\programs\\python\\python39\\lib\\site-packages\\pandas\\core\\frame.py:4441: SettingWithCopyWarning: \n",
      "A value is trying to be set on a copy of a slice from a DataFrame\n",
      "\n",
      "See the caveats in the documentation: https://pandas.pydata.org/pandas-docs/stable/user_guide/indexing.html#returning-a-view-versus-a-copy\n",
      "  return super().rename(\n"
     ]
    }
   ],
   "source": [
    "df = data[4:-1]\n",
    "df.columns = data.iloc[3]\n",
    "df.columns = df.columns.str.replace('\\r\\n','')\n",
    "df.rename(columns={'SALEPRICE': 'SALE PRICE','APARTMENTNUMBER':'APARTMENT NUMBER'}, inplace=True)\n"
   ]
  },
  {
   "cell_type": "code",
   "execution_count": 7,
   "id": "59957b5d",
   "metadata": {},
   "outputs": [
    {
     "data": {
      "text/plain": [
       "Index(['BOROUGH', 'NEIGHBORHOOD', 'BUILDING CLASS CATEGORY',\n",
       "       'TAX CLASS AT PRESENT', 'BLOCK', 'LOT', 'EASE-MENT',\n",
       "       'BUILDING CLASS AT PRESENT', 'ADDRESS', 'APARTMENT NUMBER', 'ZIP CODE',\n",
       "       'RESIDENTIAL UNITS', 'COMMERCIAL UNITS', 'TOTAL UNITS',\n",
       "       'LAND SQUARE FEET', 'GROSS SQUARE FEET', 'YEAR BUILT',\n",
       "       'TAX CLASS AT TIME OF SALE', 'BUILDING CLASS AT TIME OF SALE',\n",
       "       'SALE PRICE', 'SALE DATE'],\n",
       "      dtype='object', name=3)"
      ]
     },
     "execution_count": 7,
     "metadata": {},
     "output_type": "execute_result"
    }
   ],
   "source": [
    "df.columns\n"
   ]
  },
  {
   "cell_type": "markdown",
   "id": "ffbd9c31",
   "metadata": {},
   "source": [
    "### Dropping the columns 'BOROUGH', 'EASE-MENT', 'APARTMENT NUMBER'"
   ]
  },
  {
   "cell_type": "code",
   "execution_count": 8,
   "id": "699708bd",
   "metadata": {},
   "outputs": [
    {
     "name": "stderr",
     "output_type": "stream",
     "text": [
      "c:\\users\\seikh\\appdata\\local\\programs\\python\\python39\\lib\\site-packages\\pandas\\core\\frame.py:4308: SettingWithCopyWarning: \n",
      "A value is trying to be set on a copy of a slice from a DataFrame\n",
      "\n",
      "See the caveats in the documentation: https://pandas.pydata.org/pandas-docs/stable/user_guide/indexing.html#returning-a-view-versus-a-copy\n",
      "  return super().drop(\n"
     ]
    }
   ],
   "source": [
    "df.drop(['BOROUGH', 'EASE-MENT', 'APARTMENT NUMBER'], axis=1, inplace=True)"
   ]
  },
  {
   "cell_type": "code",
   "execution_count": 9,
   "id": "eec3e889",
   "metadata": {},
   "outputs": [
    {
     "data": {
      "text/html": [
       "<div>\n",
       "<style scoped>\n",
       "    .dataframe tbody tr th:only-of-type {\n",
       "        vertical-align: middle;\n",
       "    }\n",
       "\n",
       "    .dataframe tbody tr th {\n",
       "        vertical-align: top;\n",
       "    }\n",
       "\n",
       "    .dataframe thead th {\n",
       "        text-align: right;\n",
       "    }\n",
       "</style>\n",
       "<table border=\"1\" class=\"dataframe\">\n",
       "  <thead>\n",
       "    <tr style=\"text-align: right;\">\n",
       "      <th>3</th>\n",
       "      <th>NEIGHBORHOOD</th>\n",
       "      <th>BUILDING CLASS CATEGORY</th>\n",
       "      <th>TAX CLASS AT PRESENT</th>\n",
       "      <th>BLOCK</th>\n",
       "      <th>LOT</th>\n",
       "      <th>BUILDING CLASS AT PRESENT</th>\n",
       "      <th>ADDRESS</th>\n",
       "      <th>ZIP CODE</th>\n",
       "      <th>RESIDENTIAL UNITS</th>\n",
       "      <th>COMMERCIAL UNITS</th>\n",
       "      <th>TOTAL UNITS</th>\n",
       "      <th>LAND SQUARE FEET</th>\n",
       "      <th>GROSS SQUARE FEET</th>\n",
       "      <th>YEAR BUILT</th>\n",
       "      <th>TAX CLASS AT TIME OF SALE</th>\n",
       "      <th>BUILDING CLASS AT TIME OF SALE</th>\n",
       "      <th>SALE PRICE</th>\n",
       "      <th>SALE DATE</th>\n",
       "    </tr>\n",
       "  </thead>\n",
       "  <tbody>\n",
       "    <tr>\n",
       "      <th>27393</th>\n",
       "      <td>WASHINGTON HEIGHTS UPPER</td>\n",
       "      <td>31  COMMERCIAL VACANT LAND</td>\n",
       "      <td>4</td>\n",
       "      <td>2170</td>\n",
       "      <td>26</td>\n",
       "      <td>V1</td>\n",
       "      <td>653 WEST 187 STREET</td>\n",
       "      <td>10033</td>\n",
       "      <td>0</td>\n",
       "      <td>0</td>\n",
       "      <td>0</td>\n",
       "      <td>1,582</td>\n",
       "      <td>0</td>\n",
       "      <td>0</td>\n",
       "      <td>4</td>\n",
       "      <td>V1</td>\n",
       "      <td>$185,000</td>\n",
       "      <td>23/08/2012</td>\n",
       "    </tr>\n",
       "    <tr>\n",
       "      <th>27394</th>\n",
       "      <td>WASHINGTON HEIGHTS UPPER</td>\n",
       "      <td>31  COMMERCIAL VACANT LAND</td>\n",
       "      <td>4</td>\n",
       "      <td>2170</td>\n",
       "      <td>400</td>\n",
       "      <td>V1</td>\n",
       "      <td>44 FAIRVIEW AVENUE</td>\n",
       "      <td>10040</td>\n",
       "      <td>0</td>\n",
       "      <td>0</td>\n",
       "      <td>0</td>\n",
       "      <td>16,217</td>\n",
       "      <td>0</td>\n",
       "      <td>0</td>\n",
       "      <td>4</td>\n",
       "      <td>V1</td>\n",
       "      <td>$0</td>\n",
       "      <td>29/04/2013</td>\n",
       "    </tr>\n",
       "    <tr>\n",
       "      <th>27395</th>\n",
       "      <td>WASHINGTON HEIGHTS UPPER</td>\n",
       "      <td>31  COMMERCIAL VACANT LAND</td>\n",
       "      <td>4</td>\n",
       "      <td>2180</td>\n",
       "      <td>75</td>\n",
       "      <td>V1</td>\n",
       "      <td>BENNETT AVENUE</td>\n",
       "      <td>10033</td>\n",
       "      <td>0</td>\n",
       "      <td>0</td>\n",
       "      <td>0</td>\n",
       "      <td>4,150</td>\n",
       "      <td>0</td>\n",
       "      <td>0</td>\n",
       "      <td>4</td>\n",
       "      <td>V1</td>\n",
       "      <td>$495,000</td>\n",
       "      <td>26/06/2013</td>\n",
       "    </tr>\n",
       "    <tr>\n",
       "      <th>27396</th>\n",
       "      <td>WASHINGTON HEIGHTS UPPER</td>\n",
       "      <td>31  COMMERCIAL VACANT LAND</td>\n",
       "      <td>4</td>\n",
       "      <td>2180</td>\n",
       "      <td>75</td>\n",
       "      <td>V1</td>\n",
       "      <td>BENNETT AVENUE</td>\n",
       "      <td>10033</td>\n",
       "      <td>0</td>\n",
       "      <td>0</td>\n",
       "      <td>0</td>\n",
       "      <td>4,150</td>\n",
       "      <td>0</td>\n",
       "      <td>0</td>\n",
       "      <td>4</td>\n",
       "      <td>V1</td>\n",
       "      <td>$0</td>\n",
       "      <td>02/04/2013</td>\n",
       "    </tr>\n",
       "    <tr>\n",
       "      <th>27397</th>\n",
       "      <td>WASHINGTON HEIGHTS UPPER</td>\n",
       "      <td>31  COMMERCIAL VACANT LAND</td>\n",
       "      <td>4</td>\n",
       "      <td>2180</td>\n",
       "      <td>76</td>\n",
       "      <td>V1</td>\n",
       "      <td>N/A MAGAW PLACE</td>\n",
       "      <td>10033</td>\n",
       "      <td>0</td>\n",
       "      <td>0</td>\n",
       "      <td>0</td>\n",
       "      <td>760</td>\n",
       "      <td>0</td>\n",
       "      <td>0</td>\n",
       "      <td>4</td>\n",
       "      <td>V1</td>\n",
       "      <td>$0</td>\n",
       "      <td>26/06/2013</td>\n",
       "    </tr>\n",
       "  </tbody>\n",
       "</table>\n",
       "</div>"
      ],
      "text/plain": [
       "3                   NEIGHBORHOOD  \\\n",
       "27393  WASHINGTON HEIGHTS UPPER    \n",
       "27394  WASHINGTON HEIGHTS UPPER    \n",
       "27395  WASHINGTON HEIGHTS UPPER    \n",
       "27396  WASHINGTON HEIGHTS UPPER    \n",
       "27397  WASHINGTON HEIGHTS UPPER    \n",
       "\n",
       "3                           BUILDING CLASS CATEGORY TAX CLASS AT PRESENT  \\\n",
       "27393  31  COMMERCIAL VACANT LAND                                      4   \n",
       "27394  31  COMMERCIAL VACANT LAND                                      4   \n",
       "27395  31  COMMERCIAL VACANT LAND                                      4   \n",
       "27396  31  COMMERCIAL VACANT LAND                                      4   \n",
       "27397  31  COMMERCIAL VACANT LAND                                      4   \n",
       "\n",
       "3     BLOCK  LOT BUILDING CLASS AT PRESENT  \\\n",
       "27393  2170   26                        V1   \n",
       "27394  2170  400                        V1   \n",
       "27395  2180   75                        V1   \n",
       "27396  2180   75                        V1   \n",
       "27397  2180   76                        V1   \n",
       "\n",
       "3                                          ADDRESS ZIP CODE RESIDENTIAL UNITS  \\\n",
       "27393   653 WEST 187 STREET                           10033                 0   \n",
       "27394   44 FAIRVIEW AVENUE                            10040                 0   \n",
       "27395   BENNETT AVENUE                                10033                 0   \n",
       "27396   BENNETT AVENUE                                10033                 0   \n",
       "27397   N/A MAGAW PLACE                               10033                 0   \n",
       "\n",
       "3     COMMERCIAL UNITS TOTAL UNITS LAND SQUARE FEET GROSS SQUARE FEET  \\\n",
       "27393                0           0            1,582                 0   \n",
       "27394                0           0           16,217                 0   \n",
       "27395                0           0            4,150                 0   \n",
       "27396                0           0            4,150                 0   \n",
       "27397                0           0              760                 0   \n",
       "\n",
       "3     YEAR BUILT TAX CLASS AT TIME OF SALE BUILDING CLASS AT TIME OF SALE  \\\n",
       "27393          0                        4                             V1    \n",
       "27394          0                        4                             V1    \n",
       "27395          0                        4                             V1    \n",
       "27396          0                        4                             V1    \n",
       "27397          0                        4                             V1    \n",
       "\n",
       "3     SALE PRICE   SALE DATE  \n",
       "27393   $185,000  23/08/2012  \n",
       "27394         $0  29/04/2013  \n",
       "27395   $495,000  26/06/2013  \n",
       "27396         $0  02/04/2013  \n",
       "27397         $0  26/06/2013  "
      ]
     },
     "execution_count": 9,
     "metadata": {},
     "output_type": "execute_result"
    }
   ],
   "source": [
    "df.tail()"
   ]
  },
  {
   "cell_type": "markdown",
   "id": "7d7f9ac4",
   "metadata": {},
   "source": [
    "### For each numerical column, remove the , the 'dollar' for the sale price, and then convert them to numeric."
   ]
  },
  {
   "cell_type": "code",
   "execution_count": 33,
   "id": "0b46eaf9",
   "metadata": {},
   "outputs": [],
   "source": [
    "num_cols = ['BLOCK', 'LOT', 'ZIP CODE', 'RESIDENTIAL UNITS', 'COMMERCIAL UNITS',\n",
    "            'TOTAL UNITS', 'LAND SQUARE FEET', 'GROSS SQUARE FEET', 'YEAR BUILT',\n",
    "            'TAX CLASS AT TIME OF SALE', 'SALE PRICE']\n",
    "df[num_cols] = df[num_cols].replace('[\\$,]', '', regex=True)"
   ]
  },
  {
   "cell_type": "code",
   "execution_count": 34,
   "id": "6cb46d80",
   "metadata": {},
   "outputs": [],
   "source": [
    "df[num_cols] = df[num_cols].astype(float)"
   ]
  },
  {
   "cell_type": "markdown",
   "id": "8813ce4d",
   "metadata": {},
   "source": [
    "### Create list of categorical variables and another for the numerical variables"
   ]
  },
  {
   "cell_type": "code",
   "execution_count": 20,
   "id": "3096653c",
   "metadata": {},
   "outputs": [],
   "source": [
    "cat_list = list(df.select_dtypes(include=['object']).columns)\n",
    "num_list = list(df.select_dtypes(include=['int', 'float']).columns)\n"
   ]
  },
  {
   "cell_type": "code",
   "execution_count": 21,
   "id": "9b8e8f82",
   "metadata": {},
   "outputs": [
    {
     "data": {
      "text/plain": [
       "['NEIGHBORHOOD',\n",
       " 'BUILDING CLASS CATEGORY',\n",
       " 'TAX CLASS AT PRESENT',\n",
       " 'BUILDING CLASS AT PRESENT',\n",
       " 'ADDRESS',\n",
       " 'BUILDING CLASS AT TIME OF SALE',\n",
       " 'SALE DATE']"
      ]
     },
     "execution_count": 21,
     "metadata": {},
     "output_type": "execute_result"
    }
   ],
   "source": [
    "cat_list"
   ]
  },
  {
   "cell_type": "code",
   "execution_count": 22,
   "id": "c43d91ef",
   "metadata": {},
   "outputs": [
    {
     "data": {
      "text/plain": [
       "['BLOCK',\n",
       " 'LOT',\n",
       " 'ZIP CODE',\n",
       " 'RESIDENTIAL UNITS',\n",
       " 'COMMERCIAL UNITS',\n",
       " 'TOTAL UNITS',\n",
       " 'LAND SQUARE FEET',\n",
       " 'GROSS SQUARE FEET',\n",
       " 'YEAR BUILT',\n",
       " 'TAX CLASS AT TIME OF SALE',\n",
       " 'SALE PRICE']"
      ]
     },
     "execution_count": 22,
     "metadata": {},
     "output_type": "execute_result"
    }
   ],
   "source": [
    "num_list"
   ]
  },
  {
   "cell_type": "markdown",
   "id": "e65185d7",
   "metadata": {},
   "source": [
    "### Convert SALE DATE to datetime datatype"
   ]
  },
  {
   "cell_type": "code",
   "execution_count": 27,
   "id": "cecb8b7f",
   "metadata": {},
   "outputs": [
    {
     "name": "stderr",
     "output_type": "stream",
     "text": [
      "C:\\temp\\ipykernel_15072\\2932798691.py:1: SettingWithCopyWarning: \n",
      "A value is trying to be set on a copy of a slice from a DataFrame.\n",
      "Try using .loc[row_indexer,col_indexer] = value instead\n",
      "\n",
      "See the caveats in the documentation: https://pandas.pydata.org/pandas-docs/stable/user_guide/indexing.html#returning-a-view-versus-a-copy\n",
      "  df['SALE DATE'] = pd.to_datetime(df['SALE DATE'], format='%d/%m/%Y')\n"
     ]
    }
   ],
   "source": [
    "df['SALE DATE'] = pd.to_datetime(df['SALE DATE'], format='%d/%m/%Y')\n"
   ]
  },
  {
   "cell_type": "code",
   "execution_count": 28,
   "id": "029a4321",
   "metadata": {},
   "outputs": [
    {
     "name": "stdout",
     "output_type": "stream",
     "text": [
      "datetime64[ns]\n"
     ]
    }
   ],
   "source": [
    "print(df['SALE DATE'].dtype)"
   ]
  },
  {
   "cell_type": "markdown",
   "id": "462af98a",
   "metadata": {},
   "source": [
    "### For each categorical variable, remove the spaces, and then replace the empty string '' by NaN"
   ]
  },
  {
   "cell_type": "code",
   "execution_count": 36,
   "id": "20b7fbe5",
   "metadata": {},
   "outputs": [],
   "source": [
    "df[cat_list] = df[cat_list].applymap(lambda x: x.strip() if isinstance(x, str) else x)\n",
    "df[cat_list] = df[cat_list].replace('', pd.NA)"
   ]
  },
  {
   "cell_type": "markdown",
   "id": "ec96342f",
   "metadata": {},
   "source": [
    "### Replace the zeros in Prices, Land squares, etc. by NaN"
   ]
  },
  {
   "cell_type": "code",
   "execution_count": 41,
   "id": "90687916",
   "metadata": {},
   "outputs": [
    {
     "name": "stderr",
     "output_type": "stream",
     "text": [
      "c:\\users\\seikh\\appdata\\local\\programs\\python\\python39\\lib\\site-packages\\pandas\\core\\frame.py:3191: SettingWithCopyWarning: \n",
      "A value is trying to be set on a copy of a slice from a DataFrame.\n",
      "Try using .loc[row_indexer,col_indexer] = value instead\n",
      "\n",
      "See the caveats in the documentation: https://pandas.pydata.org/pandas-docs/stable/user_guide/indexing.html#returning-a-view-versus-a-copy\n",
      "  self[k1] = value[k2]\n"
     ]
    }
   ],
   "source": [
    "df[num_cols] = df[num_cols].replace(0, pd.NA)"
   ]
  },
  {
   "cell_type": "code",
   "execution_count": 43,
   "id": "be162fa6",
   "metadata": {},
   "outputs": [
    {
     "data": {
      "text/html": [
       "<div>\n",
       "<style scoped>\n",
       "    .dataframe tbody tr th:only-of-type {\n",
       "        vertical-align: middle;\n",
       "    }\n",
       "\n",
       "    .dataframe tbody tr th {\n",
       "        vertical-align: top;\n",
       "    }\n",
       "\n",
       "    .dataframe thead th {\n",
       "        text-align: right;\n",
       "    }\n",
       "</style>\n",
       "<table border=\"1\" class=\"dataframe\">\n",
       "  <thead>\n",
       "    <tr style=\"text-align: right;\">\n",
       "      <th>3</th>\n",
       "      <th>NEIGHBORHOOD</th>\n",
       "      <th>BUILDING CLASS CATEGORY</th>\n",
       "      <th>TAX CLASS AT PRESENT</th>\n",
       "      <th>BLOCK</th>\n",
       "      <th>LOT</th>\n",
       "      <th>BUILDING CLASS AT PRESENT</th>\n",
       "      <th>ADDRESS</th>\n",
       "      <th>ZIP CODE</th>\n",
       "      <th>RESIDENTIAL UNITS</th>\n",
       "      <th>COMMERCIAL UNITS</th>\n",
       "      <th>TOTAL UNITS</th>\n",
       "      <th>LAND SQUARE FEET</th>\n",
       "      <th>GROSS SQUARE FEET</th>\n",
       "      <th>YEAR BUILT</th>\n",
       "      <th>TAX CLASS AT TIME OF SALE</th>\n",
       "      <th>BUILDING CLASS AT TIME OF SALE</th>\n",
       "      <th>SALE PRICE</th>\n",
       "      <th>SALE DATE</th>\n",
       "    </tr>\n",
       "  </thead>\n",
       "  <tbody>\n",
       "    <tr>\n",
       "      <th>27393</th>\n",
       "      <td>WASHINGTON HEIGHTS UPPER</td>\n",
       "      <td>31  COMMERCIAL VACANT LAND</td>\n",
       "      <td>4</td>\n",
       "      <td>2170.0</td>\n",
       "      <td>26.0</td>\n",
       "      <td>V1</td>\n",
       "      <td>653 WEST 187 STREET</td>\n",
       "      <td>10033.0</td>\n",
       "      <td>&lt;NA&gt;</td>\n",
       "      <td>&lt;NA&gt;</td>\n",
       "      <td>&lt;NA&gt;</td>\n",
       "      <td>1582.0</td>\n",
       "      <td>&lt;NA&gt;</td>\n",
       "      <td>&lt;NA&gt;</td>\n",
       "      <td>4.0</td>\n",
       "      <td>V1</td>\n",
       "      <td>185000.0</td>\n",
       "      <td>2012-08-23</td>\n",
       "    </tr>\n",
       "    <tr>\n",
       "      <th>27394</th>\n",
       "      <td>WASHINGTON HEIGHTS UPPER</td>\n",
       "      <td>31  COMMERCIAL VACANT LAND</td>\n",
       "      <td>4</td>\n",
       "      <td>2170.0</td>\n",
       "      <td>400.0</td>\n",
       "      <td>V1</td>\n",
       "      <td>44 FAIRVIEW AVENUE</td>\n",
       "      <td>10040.0</td>\n",
       "      <td>&lt;NA&gt;</td>\n",
       "      <td>&lt;NA&gt;</td>\n",
       "      <td>&lt;NA&gt;</td>\n",
       "      <td>16217.0</td>\n",
       "      <td>&lt;NA&gt;</td>\n",
       "      <td>&lt;NA&gt;</td>\n",
       "      <td>4.0</td>\n",
       "      <td>V1</td>\n",
       "      <td>&lt;NA&gt;</td>\n",
       "      <td>2013-04-29</td>\n",
       "    </tr>\n",
       "    <tr>\n",
       "      <th>27395</th>\n",
       "      <td>WASHINGTON HEIGHTS UPPER</td>\n",
       "      <td>31  COMMERCIAL VACANT LAND</td>\n",
       "      <td>4</td>\n",
       "      <td>2180.0</td>\n",
       "      <td>75.0</td>\n",
       "      <td>V1</td>\n",
       "      <td>BENNETT AVENUE</td>\n",
       "      <td>10033.0</td>\n",
       "      <td>&lt;NA&gt;</td>\n",
       "      <td>&lt;NA&gt;</td>\n",
       "      <td>&lt;NA&gt;</td>\n",
       "      <td>4150.0</td>\n",
       "      <td>&lt;NA&gt;</td>\n",
       "      <td>&lt;NA&gt;</td>\n",
       "      <td>4.0</td>\n",
       "      <td>V1</td>\n",
       "      <td>495000.0</td>\n",
       "      <td>2013-06-26</td>\n",
       "    </tr>\n",
       "    <tr>\n",
       "      <th>27396</th>\n",
       "      <td>WASHINGTON HEIGHTS UPPER</td>\n",
       "      <td>31  COMMERCIAL VACANT LAND</td>\n",
       "      <td>4</td>\n",
       "      <td>2180.0</td>\n",
       "      <td>75.0</td>\n",
       "      <td>V1</td>\n",
       "      <td>BENNETT AVENUE</td>\n",
       "      <td>10033.0</td>\n",
       "      <td>&lt;NA&gt;</td>\n",
       "      <td>&lt;NA&gt;</td>\n",
       "      <td>&lt;NA&gt;</td>\n",
       "      <td>4150.0</td>\n",
       "      <td>&lt;NA&gt;</td>\n",
       "      <td>&lt;NA&gt;</td>\n",
       "      <td>4.0</td>\n",
       "      <td>V1</td>\n",
       "      <td>&lt;NA&gt;</td>\n",
       "      <td>2013-04-02</td>\n",
       "    </tr>\n",
       "    <tr>\n",
       "      <th>27397</th>\n",
       "      <td>WASHINGTON HEIGHTS UPPER</td>\n",
       "      <td>31  COMMERCIAL VACANT LAND</td>\n",
       "      <td>4</td>\n",
       "      <td>2180.0</td>\n",
       "      <td>76.0</td>\n",
       "      <td>V1</td>\n",
       "      <td>N/A MAGAW PLACE</td>\n",
       "      <td>10033.0</td>\n",
       "      <td>&lt;NA&gt;</td>\n",
       "      <td>&lt;NA&gt;</td>\n",
       "      <td>&lt;NA&gt;</td>\n",
       "      <td>760.0</td>\n",
       "      <td>&lt;NA&gt;</td>\n",
       "      <td>&lt;NA&gt;</td>\n",
       "      <td>4.0</td>\n",
       "      <td>V1</td>\n",
       "      <td>&lt;NA&gt;</td>\n",
       "      <td>2013-06-26</td>\n",
       "    </tr>\n",
       "  </tbody>\n",
       "</table>\n",
       "</div>"
      ],
      "text/plain": [
       "3                  NEIGHBORHOOD     BUILDING CLASS CATEGORY  \\\n",
       "27393  WASHINGTON HEIGHTS UPPER  31  COMMERCIAL VACANT LAND   \n",
       "27394  WASHINGTON HEIGHTS UPPER  31  COMMERCIAL VACANT LAND   \n",
       "27395  WASHINGTON HEIGHTS UPPER  31  COMMERCIAL VACANT LAND   \n",
       "27396  WASHINGTON HEIGHTS UPPER  31  COMMERCIAL VACANT LAND   \n",
       "27397  WASHINGTON HEIGHTS UPPER  31  COMMERCIAL VACANT LAND   \n",
       "\n",
       "3     TAX CLASS AT PRESENT   BLOCK    LOT BUILDING CLASS AT PRESENT  \\\n",
       "27393                    4  2170.0   26.0                        V1   \n",
       "27394                    4  2170.0  400.0                        V1   \n",
       "27395                    4  2180.0   75.0                        V1   \n",
       "27396                    4  2180.0   75.0                        V1   \n",
       "27397                    4  2180.0   76.0                        V1   \n",
       "\n",
       "3                  ADDRESS ZIP CODE RESIDENTIAL UNITS COMMERCIAL UNITS  \\\n",
       "27393  653 WEST 187 STREET  10033.0              <NA>             <NA>   \n",
       "27394   44 FAIRVIEW AVENUE  10040.0              <NA>             <NA>   \n",
       "27395       BENNETT AVENUE  10033.0              <NA>             <NA>   \n",
       "27396       BENNETT AVENUE  10033.0              <NA>             <NA>   \n",
       "27397      N/A MAGAW PLACE  10033.0              <NA>             <NA>   \n",
       "\n",
       "3     TOTAL UNITS LAND SQUARE FEET GROSS SQUARE FEET YEAR BUILT  \\\n",
       "27393        <NA>           1582.0              <NA>       <NA>   \n",
       "27394        <NA>          16217.0              <NA>       <NA>   \n",
       "27395        <NA>           4150.0              <NA>       <NA>   \n",
       "27396        <NA>           4150.0              <NA>       <NA>   \n",
       "27397        <NA>            760.0              <NA>       <NA>   \n",
       "\n",
       "3      TAX CLASS AT TIME OF SALE BUILDING CLASS AT TIME OF SALE SALE PRICE  \\\n",
       "27393                        4.0                             V1   185000.0   \n",
       "27394                        4.0                             V1       <NA>   \n",
       "27395                        4.0                             V1   495000.0   \n",
       "27396                        4.0                             V1       <NA>   \n",
       "27397                        4.0                             V1       <NA>   \n",
       "\n",
       "3      SALE DATE  \n",
       "27393 2012-08-23  \n",
       "27394 2013-04-29  \n",
       "27395 2013-06-26  \n",
       "27396 2013-04-02  \n",
       "27397 2013-06-26  "
      ]
     },
     "execution_count": 43,
     "metadata": {},
     "output_type": "execute_result"
    }
   ],
   "source": [
    "df.tail()"
   ]
  },
  {
   "cell_type": "markdown",
   "id": "f404e8dd",
   "metadata": {},
   "source": [
    "### Show a summary of all missing values as well as the summary statistics"
   ]
  },
  {
   "cell_type": "code",
   "execution_count": 44,
   "id": "ab723f37",
   "metadata": {},
   "outputs": [
    {
     "name": "stdout",
     "output_type": "stream",
     "text": [
      "<class 'pandas.core.frame.DataFrame'>\n",
      "RangeIndex: 27394 entries, 4 to 27397\n",
      "Data columns (total 18 columns):\n",
      " #   Column                          Non-Null Count  Dtype         \n",
      "---  ------                          --------------  -----         \n",
      " 0   NEIGHBORHOOD                    27377 non-null  object        \n",
      " 1   BUILDING CLASS CATEGORY         23940 non-null  object        \n",
      " 2   TAX CLASS AT PRESENT            27251 non-null  object        \n",
      " 3   BLOCK                           27394 non-null  float64       \n",
      " 4   LOT                             27394 non-null  float64       \n",
      " 5   BUILDING CLASS AT PRESENT       27251 non-null  object        \n",
      " 6   ADDRESS                         27394 non-null  object        \n",
      " 7   ZIP CODE                        27393 non-null  object        \n",
      " 8   RESIDENTIAL UNITS               11023 non-null  object        \n",
      " 9   COMMERCIAL UNITS                3433 non-null   object        \n",
      " 10  TOTAL UNITS                     17691 non-null  object        \n",
      " 11  LAND SQUARE FEET                4488 non-null   object        \n",
      " 12  GROSS SQUARE FEET               4326 non-null   object        \n",
      " 13  YEAR BUILT                      20954 non-null  object        \n",
      " 14  TAX CLASS AT TIME OF SALE       27394 non-null  float64       \n",
      " 15  BUILDING CLASS AT TIME OF SALE  27394 non-null  object        \n",
      " 16  SALE PRICE                      19802 non-null  object        \n",
      " 17  SALE DATE                       27394 non-null  datetime64[ns]\n",
      "dtypes: datetime64[ns](1), float64(3), object(14)\n",
      "memory usage: 3.8+ MB\n"
     ]
    }
   ],
   "source": [
    "df.info()"
   ]
  },
  {
   "cell_type": "code",
   "execution_count": 45,
   "id": "3414e211",
   "metadata": {},
   "outputs": [
    {
     "data": {
      "text/html": [
       "<div>\n",
       "<style scoped>\n",
       "    .dataframe tbody tr th:only-of-type {\n",
       "        vertical-align: middle;\n",
       "    }\n",
       "\n",
       "    .dataframe tbody tr th {\n",
       "        vertical-align: top;\n",
       "    }\n",
       "\n",
       "    .dataframe thead th {\n",
       "        text-align: right;\n",
       "    }\n",
       "</style>\n",
       "<table border=\"1\" class=\"dataframe\">\n",
       "  <thead>\n",
       "    <tr style=\"text-align: right;\">\n",
       "      <th>3</th>\n",
       "      <th>BLOCK</th>\n",
       "      <th>LOT</th>\n",
       "      <th>TAX CLASS AT TIME OF SALE</th>\n",
       "    </tr>\n",
       "  </thead>\n",
       "  <tbody>\n",
       "    <tr>\n",
       "      <th>count</th>\n",
       "      <td>27394.000000</td>\n",
       "      <td>27394.000000</td>\n",
       "      <td>27394.000000</td>\n",
       "    </tr>\n",
       "    <tr>\n",
       "      <th>mean</th>\n",
       "      <td>1109.627656</td>\n",
       "      <td>741.813390</td>\n",
       "      <td>2.488063</td>\n",
       "    </tr>\n",
       "    <tr>\n",
       "      <th>std</th>\n",
       "      <td>465.958098</td>\n",
       "      <td>819.427506</td>\n",
       "      <td>0.891692</td>\n",
       "    </tr>\n",
       "    <tr>\n",
       "      <th>min</th>\n",
       "      <td>7.000000</td>\n",
       "      <td>1.000000</td>\n",
       "      <td>1.000000</td>\n",
       "    </tr>\n",
       "    <tr>\n",
       "      <th>25%</th>\n",
       "      <td>877.000000</td>\n",
       "      <td>37.000000</td>\n",
       "      <td>2.000000</td>\n",
       "    </tr>\n",
       "    <tr>\n",
       "      <th>50%</th>\n",
       "      <td>1047.000000</td>\n",
       "      <td>1007.000000</td>\n",
       "      <td>2.000000</td>\n",
       "    </tr>\n",
       "    <tr>\n",
       "      <th>75%</th>\n",
       "      <td>1411.000000</td>\n",
       "      <td>1233.000000</td>\n",
       "      <td>4.000000</td>\n",
       "    </tr>\n",
       "    <tr>\n",
       "      <th>max</th>\n",
       "      <td>2250.000000</td>\n",
       "      <td>9117.000000</td>\n",
       "      <td>4.000000</td>\n",
       "    </tr>\n",
       "  </tbody>\n",
       "</table>\n",
       "</div>"
      ],
      "text/plain": [
       "3             BLOCK           LOT  TAX CLASS AT TIME OF SALE\n",
       "count  27394.000000  27394.000000               27394.000000\n",
       "mean    1109.627656    741.813390                   2.488063\n",
       "std      465.958098    819.427506                   0.891692\n",
       "min        7.000000      1.000000                   1.000000\n",
       "25%      877.000000     37.000000                   2.000000\n",
       "50%     1047.000000   1007.000000                   2.000000\n",
       "75%     1411.000000   1233.000000                   4.000000\n",
       "max     2250.000000   9117.000000                   4.000000"
      ]
     },
     "execution_count": 45,
     "metadata": {},
     "output_type": "execute_result"
    }
   ],
   "source": [
    "df.describe()"
   ]
  },
  {
   "cell_type": "markdown",
   "id": "86072641",
   "metadata": {},
   "source": [
    "### dropping duplicates"
   ]
  },
  {
   "cell_type": "code",
   "execution_count": 46,
   "id": "c1dcd2b6",
   "metadata": {},
   "outputs": [
    {
     "name": "stderr",
     "output_type": "stream",
     "text": [
      "C:\\temp\\ipykernel_15072\\3006716147.py:1: SettingWithCopyWarning: \n",
      "A value is trying to be set on a copy of a slice from a DataFrame\n",
      "\n",
      "See the caveats in the documentation: https://pandas.pydata.org/pandas-docs/stable/user_guide/indexing.html#returning-a-view-versus-a-copy\n",
      "  df.drop_duplicates(inplace=True)\n"
     ]
    }
   ],
   "source": [
    "df.drop_duplicates(inplace=True)"
   ]
  },
  {
   "cell_type": "code",
   "execution_count": 48,
   "id": "4474e13c",
   "metadata": {},
   "outputs": [
    {
     "data": {
      "text/plain": [
       "(25801, 18)"
      ]
     },
     "execution_count": 48,
     "metadata": {},
     "output_type": "execute_result"
    }
   ],
   "source": [
    "df.shape"
   ]
  },
  {
   "cell_type": "markdown",
   "id": "67103699",
   "metadata": {},
   "source": [
    "### dropping rows with NaN"
   ]
  },
  {
   "cell_type": "code",
   "execution_count": 49,
   "id": "1079b1f6",
   "metadata": {},
   "outputs": [
    {
     "name": "stderr",
     "output_type": "stream",
     "text": [
      "C:\\temp\\ipykernel_15072\\1379821321.py:1: SettingWithCopyWarning: \n",
      "A value is trying to be set on a copy of a slice from a DataFrame\n",
      "\n",
      "See the caveats in the documentation: https://pandas.pydata.org/pandas-docs/stable/user_guide/indexing.html#returning-a-view-versus-a-copy\n",
      "  df.dropna(inplace=True)\n"
     ]
    }
   ],
   "source": [
    "df.dropna(inplace=True)"
   ]
  },
  {
   "cell_type": "code",
   "execution_count": 50,
   "id": "583f7237",
   "metadata": {},
   "outputs": [
    {
     "data": {
      "text/plain": [
       "(470, 18)"
      ]
     },
     "execution_count": 50,
     "metadata": {},
     "output_type": "execute_result"
    }
   ],
   "source": [
    "df.shape"
   ]
  },
  {
   "cell_type": "markdown",
   "id": "6f37cd79",
   "metadata": {},
   "source": [
    "### identify and remove outliers if any and showing shape"
   ]
  },
  {
   "cell_type": "code",
   "execution_count": 57,
   "id": "30cad243",
   "metadata": {},
   "outputs": [],
   "source": [
    "z_scores = np.abs(stats.zscore(df.select_dtypes(include=np.number)))\n",
    "df = df[(z_scores < 3).all(axis=1)]"
   ]
  },
  {
   "cell_type": "code",
   "execution_count": 58,
   "id": "52cd6be9",
   "metadata": {},
   "outputs": [
    {
     "data": {
      "text/plain": [
       "(467, 18)"
      ]
     },
     "execution_count": 58,
     "metadata": {},
     "output_type": "execute_result"
    }
   ],
   "source": [
    "df.shape"
   ]
  },
  {
   "cell_type": "markdown",
   "id": "1d33ace0",
   "metadata": {},
   "source": [
    "### Consider the log of the prices and normalise the data"
   ]
  },
  {
   "cell_type": "code",
   "execution_count": 67,
   "id": "d5ef6ce7",
   "metadata": {},
   "outputs": [],
   "source": [
    "df['SALE PRICE'] = np.log(df['SALE PRICE'].astype('float64'))"
   ]
  },
  {
   "cell_type": "code",
   "execution_count": null,
   "id": "d9e0c7a8",
   "metadata": {},
   "outputs": [],
   "source": []
  }
 ],
 "metadata": {
  "kernelspec": {
   "display_name": "Python 3 (ipykernel)",
   "language": "python",
   "name": "python3"
  },
  "language_info": {
   "codemirror_mode": {
    "name": "ipython",
    "version": 3
   },
   "file_extension": ".py",
   "mimetype": "text/x-python",
   "name": "python",
   "nbconvert_exporter": "python",
   "pygments_lexer": "ipython3",
   "version": "3.9.7"
  }
 },
 "nbformat": 4,
 "nbformat_minor": 5
}
