{
 "cells": [
  {
   "cell_type": "code",
   "execution_count": 2,
   "id": "303da1ac",
   "metadata": {},
   "outputs": [],
   "source": [
    "import pandas as pd\n",
    "import numpy as np\n",
    "from scipy import stats\n",
    "import matplotlib.pyplot as plt\n",
    "from sklearn.preprocessing import StandardScaler"
   ]
  },
  {
   "cell_type": "code",
   "execution_count": 3,
   "id": "25bbde62",
   "metadata": {},
   "outputs": [],
   "source": [
    "data = pd.read_csv('Manhattan12.csv')"
   ]
  },
  {
   "cell_type": "code",
   "execution_count": 4,
   "id": "2f397bf3",
   "metadata": {},
   "outputs": [
    {
     "data": {
      "text/html": [
       "<div>\n",
       "<style scoped>\n",
       "    .dataframe tbody tr th:only-of-type {\n",
       "        vertical-align: middle;\n",
       "    }\n",
       "\n",
       "    .dataframe tbody tr th {\n",
       "        vertical-align: top;\n",
       "    }\n",
       "\n",
       "    .dataframe thead th {\n",
       "        text-align: right;\n",
       "    }\n",
       "</style>\n",
       "<table border=\"1\" class=\"dataframe\">\n",
       "  <thead>\n",
       "    <tr style=\"text-align: right;\">\n",
       "      <th></th>\n",
       "      <th>Manhattan Rolling Sales File.  All Sales From August 2012 - August 2013.</th>\n",
       "      <th>Unnamed: 1</th>\n",
       "      <th>Unnamed: 2</th>\n",
       "      <th>Unnamed: 3</th>\n",
       "      <th>Unnamed: 4</th>\n",
       "      <th>Unnamed: 5</th>\n",
       "      <th>Unnamed: 6</th>\n",
       "      <th>Unnamed: 7</th>\n",
       "      <th>Unnamed: 8</th>\n",
       "      <th>Unnamed: 9</th>\n",
       "      <th>...</th>\n",
       "      <th>Unnamed: 11</th>\n",
       "      <th>Unnamed: 12</th>\n",
       "      <th>Unnamed: 13</th>\n",
       "      <th>Unnamed: 14</th>\n",
       "      <th>Unnamed: 15</th>\n",
       "      <th>Unnamed: 16</th>\n",
       "      <th>Unnamed: 17</th>\n",
       "      <th>Unnamed: 18</th>\n",
       "      <th>Unnamed: 19</th>\n",
       "      <th>Unnamed: 20</th>\n",
       "    </tr>\n",
       "  </thead>\n",
       "  <tbody>\n",
       "    <tr>\n",
       "      <th>0</th>\n",
       "      <td>Sales File as of 08/30/2013  Coop Sales Files ...</td>\n",
       "      <td>NaN</td>\n",
       "      <td>NaN</td>\n",
       "      <td>NaN</td>\n",
       "      <td>NaN</td>\n",
       "      <td>NaN</td>\n",
       "      <td>NaN</td>\n",
       "      <td>NaN</td>\n",
       "      <td>NaN</td>\n",
       "      <td>NaN</td>\n",
       "      <td>...</td>\n",
       "      <td>NaN</td>\n",
       "      <td>NaN</td>\n",
       "      <td>NaN</td>\n",
       "      <td>NaN</td>\n",
       "      <td>NaN</td>\n",
       "      <td>NaN</td>\n",
       "      <td>NaN</td>\n",
       "      <td>NaN</td>\n",
       "      <td>NaN</td>\n",
       "      <td>NaN</td>\n",
       "    </tr>\n",
       "    <tr>\n",
       "      <th>1</th>\n",
       "      <td>Neighborhood Name 09/06/13, Descriptive Data i...</td>\n",
       "      <td>NaN</td>\n",
       "      <td>NaN</td>\n",
       "      <td>NaN</td>\n",
       "      <td>NaN</td>\n",
       "      <td>NaN</td>\n",
       "      <td>NaN</td>\n",
       "      <td>NaN</td>\n",
       "      <td>NaN</td>\n",
       "      <td>NaN</td>\n",
       "      <td>...</td>\n",
       "      <td>NaN</td>\n",
       "      <td>NaN</td>\n",
       "      <td>NaN</td>\n",
       "      <td>NaN</td>\n",
       "      <td>NaN</td>\n",
       "      <td>NaN</td>\n",
       "      <td>NaN</td>\n",
       "      <td>NaN</td>\n",
       "      <td>NaN</td>\n",
       "      <td>NaN</td>\n",
       "    </tr>\n",
       "    <tr>\n",
       "      <th>2</th>\n",
       "      <td>Building Class Category is based on Building C...</td>\n",
       "      <td>NaN</td>\n",
       "      <td>NaN</td>\n",
       "      <td>NaN</td>\n",
       "      <td>NaN</td>\n",
       "      <td>NaN</td>\n",
       "      <td>NaN</td>\n",
       "      <td>NaN</td>\n",
       "      <td>NaN</td>\n",
       "      <td>NaN</td>\n",
       "      <td>...</td>\n",
       "      <td>NaN</td>\n",
       "      <td>NaN</td>\n",
       "      <td>NaN</td>\n",
       "      <td>NaN</td>\n",
       "      <td>NaN</td>\n",
       "      <td>NaN</td>\n",
       "      <td>NaN</td>\n",
       "      <td>NaN</td>\n",
       "      <td>NaN</td>\n",
       "      <td>NaN</td>\n",
       "    </tr>\n",
       "    <tr>\n",
       "      <th>3</th>\n",
       "      <td>BOROUGH</td>\n",
       "      <td>NEIGHBORHOOD</td>\n",
       "      <td>BUILDING CLASS CATEGORY</td>\n",
       "      <td>TAX CLASS AT PRESENT</td>\n",
       "      <td>BLOCK</td>\n",
       "      <td>LOT</td>\n",
       "      <td>EASE-MENT</td>\n",
       "      <td>BUILDING CLASS AT PRESENT</td>\n",
       "      <td>ADDRESS</td>\n",
       "      <td>APART\\r\\nMENT\\r\\nNUMBER</td>\n",
       "      <td>...</td>\n",
       "      <td>RESIDENTIAL UNITS</td>\n",
       "      <td>COMMERCIAL UNITS</td>\n",
       "      <td>TOTAL UNITS</td>\n",
       "      <td>LAND SQUARE FEET</td>\n",
       "      <td>GROSS SQUARE FEET</td>\n",
       "      <td>YEAR BUILT</td>\n",
       "      <td>TAX CLASS AT TIME OF SALE</td>\n",
       "      <td>BUILDING CLASS AT TIME OF SALE</td>\n",
       "      <td>SALE\\r\\nPRICE</td>\n",
       "      <td>SALE DATE</td>\n",
       "    </tr>\n",
       "    <tr>\n",
       "      <th>4</th>\n",
       "      <td>1</td>\n",
       "      <td></td>\n",
       "      <td>13  CONDOS - ELEVATOR APARTMENTS</td>\n",
       "      <td></td>\n",
       "      <td>738</td>\n",
       "      <td>1306</td>\n",
       "      <td></td>\n",
       "      <td></td>\n",
       "      <td>345 WEST 14TH   STREET</td>\n",
       "      <td></td>\n",
       "      <td>...</td>\n",
       "      <td>0</td>\n",
       "      <td>0</td>\n",
       "      <td>0</td>\n",
       "      <td>0</td>\n",
       "      <td>0</td>\n",
       "      <td>0</td>\n",
       "      <td>2</td>\n",
       "      <td>R4</td>\n",
       "      <td>$2,214,693</td>\n",
       "      <td>20/05/2013</td>\n",
       "    </tr>\n",
       "  </tbody>\n",
       "</table>\n",
       "<p>5 rows × 21 columns</p>\n",
       "</div>"
      ],
      "text/plain": [
       "  Manhattan Rolling Sales File.  All Sales From August 2012 - August 2013.   \\\n",
       "0  Sales File as of 08/30/2013  Coop Sales Files ...                          \n",
       "1  Neighborhood Name 09/06/13, Descriptive Data i...                          \n",
       "2  Building Class Category is based on Building C...                          \n",
       "3                                            BOROUGH                          \n",
       "4                                                  1                          \n",
       "\n",
       "                  Unnamed: 1                                    Unnamed: 2  \\\n",
       "0                        NaN                                           NaN   \n",
       "1                        NaN                                           NaN   \n",
       "2                        NaN                                           NaN   \n",
       "3               NEIGHBORHOOD                       BUILDING CLASS CATEGORY   \n",
       "4                             13  CONDOS - ELEVATOR APARTMENTS               \n",
       "\n",
       "             Unnamed: 3 Unnamed: 4 Unnamed: 5 Unnamed: 6  \\\n",
       "0                   NaN        NaN        NaN        NaN   \n",
       "1                   NaN        NaN        NaN        NaN   \n",
       "2                   NaN        NaN        NaN        NaN   \n",
       "3  TAX CLASS AT PRESENT      BLOCK        LOT  EASE-MENT   \n",
       "4                              738       1306              \n",
       "\n",
       "                  Unnamed: 7                                   Unnamed: 8  \\\n",
       "0                        NaN                                          NaN   \n",
       "1                        NaN                                          NaN   \n",
       "2                        NaN                                          NaN   \n",
       "3  BUILDING CLASS AT PRESENT                                      ADDRESS   \n",
       "4                              345 WEST 14TH   STREET                       \n",
       "\n",
       "                Unnamed: 9  ...        Unnamed: 11       Unnamed: 12  \\\n",
       "0                      NaN  ...                NaN               NaN   \n",
       "1                      NaN  ...                NaN               NaN   \n",
       "2                      NaN  ...                NaN               NaN   \n",
       "3  APART\\r\\nMENT\\r\\nNUMBER  ...  RESIDENTIAL UNITS  COMMERCIAL UNITS   \n",
       "4                           ...                  0                 0   \n",
       "\n",
       "   Unnamed: 13       Unnamed: 14        Unnamed: 15 Unnamed: 16  \\\n",
       "0          NaN               NaN                NaN         NaN   \n",
       "1          NaN               NaN                NaN         NaN   \n",
       "2          NaN               NaN                NaN         NaN   \n",
       "3  TOTAL UNITS  LAND SQUARE FEET  GROSS SQUARE FEET  YEAR BUILT   \n",
       "4            0                 0                  0           0   \n",
       "\n",
       "                 Unnamed: 17                     Unnamed: 18    Unnamed: 19  \\\n",
       "0                        NaN                             NaN            NaN   \n",
       "1                        NaN                             NaN            NaN   \n",
       "2                        NaN                             NaN            NaN   \n",
       "3  TAX CLASS AT TIME OF SALE  BUILDING CLASS AT TIME OF SALE  SALE\\r\\nPRICE   \n",
       "4                         2                              R4      $2,214,693   \n",
       "\n",
       "  Unnamed: 20  \n",
       "0         NaN  \n",
       "1         NaN  \n",
       "2         NaN  \n",
       "3   SALE DATE  \n",
       "4  20/05/2013  \n",
       "\n",
       "[5 rows x 21 columns]"
      ]
     },
     "execution_count": 4,
     "metadata": {},
     "output_type": "execute_result"
    }
   ],
   "source": [
    "data.head()"
   ]
  },
  {
   "cell_type": "code",
   "execution_count": 5,
   "id": "4dda9610",
   "metadata": {},
   "outputs": [
    {
     "data": {
      "text/plain": [
       "(27399, 21)"
      ]
     },
     "execution_count": 5,
     "metadata": {},
     "output_type": "execute_result"
    }
   ],
   "source": [
    "data.shape"
   ]
  },
  {
   "cell_type": "markdown",
   "id": "b376e31b",
   "metadata": {},
   "source": [
    "## Rename incorrectly formatted column names"
   ]
  },
  {
   "cell_type": "code",
   "execution_count": 6,
   "id": "9e50f6fa",
   "metadata": {},
   "outputs": [
    {
     "name": "stderr",
     "output_type": "stream",
     "text": [
      "c:\\users\\seikh\\appdata\\local\\programs\\python\\python39\\lib\\site-packages\\pandas\\core\\frame.py:4441: SettingWithCopyWarning: \n",
      "A value is trying to be set on a copy of a slice from a DataFrame\n",
      "\n",
      "See the caveats in the documentation: https://pandas.pydata.org/pandas-docs/stable/user_guide/indexing.html#returning-a-view-versus-a-copy\n",
      "  return super().rename(\n"
     ]
    }
   ],
   "source": [
    "df = data[4:-1]\n",
    "df.columns = data.iloc[3]\n",
    "df.columns = df.columns.str.replace('\\r\\n','')\n",
    "df.rename(columns={'SALEPRICE': 'SALE_PRICE','APARTMENTNUMBER':'APARTMENT_NUMBER'}, inplace=True)\n"
   ]
  },
  {
   "cell_type": "code",
   "execution_count": 7,
   "id": "9bdcbd4d",
   "metadata": {},
   "outputs": [
    {
     "data": {
      "text/plain": [
       "Index(['BOROUGH', 'NEIGHBORHOOD', 'BUILDING CLASS CATEGORY',\n",
       "       'TAX CLASS AT PRESENT', 'BLOCK', 'LOT', 'EASE-MENT',\n",
       "       'BUILDING CLASS AT PRESENT', 'ADDRESS', 'APARTMENT_NUMBER', 'ZIP CODE',\n",
       "       'RESIDENTIAL UNITS', 'COMMERCIAL UNITS', 'TOTAL UNITS',\n",
       "       'LAND SQUARE FEET', 'GROSS SQUARE FEET', 'YEAR BUILT',\n",
       "       'TAX CLASS AT TIME OF SALE', 'BUILDING CLASS AT TIME OF SALE',\n",
       "       'SALE_PRICE', 'SALE DATE'],\n",
       "      dtype='object', name=3)"
      ]
     },
     "execution_count": 7,
     "metadata": {},
     "output_type": "execute_result"
    }
   ],
   "source": [
    "df.columns\n",
    "\n"
   ]
  },
  {
   "cell_type": "markdown",
   "id": "6497a00a",
   "metadata": {},
   "source": [
    "### Dropping the columns 'BOROUGH', 'EASE-MENT', 'APARTMENT NUMBER'"
   ]
  },
  {
   "cell_type": "code",
   "execution_count": 10,
   "id": "88b1fffb",
   "metadata": {},
   "outputs": [
    {
     "name": "stderr",
     "output_type": "stream",
     "text": [
      "c:\\users\\seikh\\appdata\\local\\programs\\python\\python39\\lib\\site-packages\\pandas\\core\\frame.py:4308: SettingWithCopyWarning: \n",
      "A value is trying to be set on a copy of a slice from a DataFrame\n",
      "\n",
      "See the caveats in the documentation: https://pandas.pydata.org/pandas-docs/stable/user_guide/indexing.html#returning-a-view-versus-a-copy\n",
      "  return super().drop(\n"
     ]
    }
   ],
   "source": [
    "df.drop(['BOROUGH', 'EASE-MENT', 'APARTMENT_NUMBER'], axis=1, inplace=True)"
   ]
  },
  {
   "cell_type": "markdown",
   "id": "0068d3a6",
   "metadata": {},
   "source": [
    "### For each numerical column, remove the , the 'dollar' for the sale price, and then convert them to numeric."
   ]
  },
  {
   "cell_type": "code",
   "execution_count": 12,
   "id": "e675f115",
   "metadata": {},
   "outputs": [
    {
     "name": "stderr",
     "output_type": "stream",
     "text": [
      "c:\\users\\seikh\\appdata\\local\\programs\\python\\python39\\lib\\site-packages\\pandas\\core\\frame.py:3191: SettingWithCopyWarning: \n",
      "A value is trying to be set on a copy of a slice from a DataFrame.\n",
      "Try using .loc[row_indexer,col_indexer] = value instead\n",
      "\n",
      "See the caveats in the documentation: https://pandas.pydata.org/pandas-docs/stable/user_guide/indexing.html#returning-a-view-versus-a-copy\n",
      "  self[k1] = value[k2]\n"
     ]
    }
   ],
   "source": [
    "num_cols = ['BLOCK', 'LOT', 'ZIP CODE', 'RESIDENTIAL UNITS', 'COMMERCIAL UNITS',\n",
    "            'TOTAL UNITS', 'LAND SQUARE FEET', 'GROSS SQUARE FEET', 'YEAR BUILT',\n",
    "            'TAX CLASS AT TIME OF SALE', 'SALE_PRICE']\n",
    "df[num_cols] = df[num_cols].replace('[\\$,]', '', regex=True)"
   ]
  },
  {
   "cell_type": "code",
   "execution_count": 13,
   "id": "14f931a3",
   "metadata": {},
   "outputs": [],
   "source": [
    "df[num_cols] = df[num_cols].astype(float)"
   ]
  },
  {
   "cell_type": "markdown",
   "id": "594b6f16",
   "metadata": {},
   "source": [
    "### Create list of categorical variables and another for the numerical variables¶"
   ]
  },
  {
   "cell_type": "code",
   "execution_count": 14,
   "id": "c9f29785",
   "metadata": {},
   "outputs": [],
   "source": [
    "cat_list = list(df.select_dtypes(include=['object']).columns)\n",
    "num_list = list(df.select_dtypes(include=['int', 'float']).columns)\n"
   ]
  },
  {
   "cell_type": "code",
   "execution_count": 15,
   "id": "9e871457",
   "metadata": {},
   "outputs": [
    {
     "data": {
      "text/plain": [
       "['NEIGHBORHOOD',\n",
       " 'BUILDING CLASS CATEGORY',\n",
       " 'TAX CLASS AT PRESENT',\n",
       " 'BUILDING CLASS AT PRESENT',\n",
       " 'ADDRESS',\n",
       " 'BUILDING CLASS AT TIME OF SALE',\n",
       " 'SALE DATE']"
      ]
     },
     "execution_count": 15,
     "metadata": {},
     "output_type": "execute_result"
    }
   ],
   "source": [
    "cat_list\n"
   ]
  },
  {
   "cell_type": "code",
   "execution_count": 16,
   "id": "0d4b92a4",
   "metadata": {},
   "outputs": [
    {
     "data": {
      "text/plain": [
       "['BLOCK',\n",
       " 'LOT',\n",
       " 'ZIP CODE',\n",
       " 'RESIDENTIAL UNITS',\n",
       " 'COMMERCIAL UNITS',\n",
       " 'TOTAL UNITS',\n",
       " 'LAND SQUARE FEET',\n",
       " 'GROSS SQUARE FEET',\n",
       " 'YEAR BUILT',\n",
       " 'TAX CLASS AT TIME OF SALE',\n",
       " 'SALE_PRICE']"
      ]
     },
     "execution_count": 16,
     "metadata": {},
     "output_type": "execute_result"
    }
   ],
   "source": [
    "num_list"
   ]
  },
  {
   "cell_type": "markdown",
   "id": "8c23c49a",
   "metadata": {},
   "source": [
    "### Convert SALE DATE to datetime datatype¶"
   ]
  },
  {
   "cell_type": "code",
   "execution_count": 17,
   "id": "4a65554c",
   "metadata": {},
   "outputs": [
    {
     "name": "stderr",
     "output_type": "stream",
     "text": [
      "C:\\temp\\ipykernel_4172\\3665037307.py:1: SettingWithCopyWarning: \n",
      "A value is trying to be set on a copy of a slice from a DataFrame.\n",
      "Try using .loc[row_indexer,col_indexer] = value instead\n",
      "\n",
      "See the caveats in the documentation: https://pandas.pydata.org/pandas-docs/stable/user_guide/indexing.html#returning-a-view-versus-a-copy\n",
      "  df['SALE DATE'] = pd.to_datetime(df['SALE DATE'], format='%d/%m/%Y')\n"
     ]
    }
   ],
   "source": [
    "df['SALE DATE'] = pd.to_datetime(df['SALE DATE'], format='%d/%m/%Y')"
   ]
  },
  {
   "cell_type": "code",
   "execution_count": 18,
   "id": "bd5986b3",
   "metadata": {},
   "outputs": [
    {
     "name": "stdout",
     "output_type": "stream",
     "text": [
      "datetime64[ns]\n"
     ]
    }
   ],
   "source": [
    "print(df['SALE DATE'].dtype)"
   ]
  },
  {
   "cell_type": "markdown",
   "id": "7cbc24b5",
   "metadata": {},
   "source": [
    "### For each categorical variable, remove the spaces, and then replace the empty string '' by NaN"
   ]
  },
  {
   "cell_type": "code",
   "execution_count": 19,
   "id": "85ecd4dd",
   "metadata": {},
   "outputs": [],
   "source": [
    "df[cat_list] = df[cat_list].applymap(lambda x: x.strip() if isinstance(x, str) else x)\n",
    "df[cat_list] = df[cat_list].replace('', pd.NA)"
   ]
  },
  {
   "cell_type": "markdown",
   "id": "982300ff",
   "metadata": {},
   "source": [
    "### Replace the zeros in Prices, Land squares, etc. by NaN"
   ]
  },
  {
   "cell_type": "code",
   "execution_count": 20,
   "id": "d4af7b31",
   "metadata": {},
   "outputs": [],
   "source": [
    "df[num_cols] = df[num_cols].replace(0, pd.NA)"
   ]
  },
  {
   "cell_type": "markdown",
   "id": "85c1546a",
   "metadata": {},
   "source": [
    "### Show a summary of all missing values as well as the summary statistics"
   ]
  },
  {
   "cell_type": "code",
   "execution_count": 21,
   "id": "1bed25ee",
   "metadata": {},
   "outputs": [
    {
     "name": "stdout",
     "output_type": "stream",
     "text": [
      "<class 'pandas.core.frame.DataFrame'>\n",
      "RangeIndex: 27394 entries, 4 to 27397\n",
      "Data columns (total 18 columns):\n",
      " #   Column                          Non-Null Count  Dtype         \n",
      "---  ------                          --------------  -----         \n",
      " 0   NEIGHBORHOOD                    27377 non-null  object        \n",
      " 1   BUILDING CLASS CATEGORY         23940 non-null  object        \n",
      " 2   TAX CLASS AT PRESENT            27251 non-null  object        \n",
      " 3   BLOCK                           27394 non-null  float64       \n",
      " 4   LOT                             27394 non-null  float64       \n",
      " 5   BUILDING CLASS AT PRESENT       27251 non-null  object        \n",
      " 6   ADDRESS                         27394 non-null  object        \n",
      " 7   ZIP CODE                        27393 non-null  object        \n",
      " 8   RESIDENTIAL UNITS               11023 non-null  object        \n",
      " 9   COMMERCIAL UNITS                3433 non-null   object        \n",
      " 10  TOTAL UNITS                     17691 non-null  object        \n",
      " 11  LAND SQUARE FEET                4488 non-null   object        \n",
      " 12  GROSS SQUARE FEET               4326 non-null   object        \n",
      " 13  YEAR BUILT                      20954 non-null  object        \n",
      " 14  TAX CLASS AT TIME OF SALE       27394 non-null  float64       \n",
      " 15  BUILDING CLASS AT TIME OF SALE  27394 non-null  object        \n",
      " 16  SALE_PRICE                      19802 non-null  object        \n",
      " 17  SALE DATE                       27394 non-null  datetime64[ns]\n",
      "dtypes: datetime64[ns](1), float64(3), object(14)\n",
      "memory usage: 3.8+ MB\n"
     ]
    }
   ],
   "source": [
    "df.info()"
   ]
  },
  {
   "cell_type": "code",
   "execution_count": 22,
   "id": "399f9929",
   "metadata": {},
   "outputs": [
    {
     "data": {
      "text/html": [
       "<div>\n",
       "<style scoped>\n",
       "    .dataframe tbody tr th:only-of-type {\n",
       "        vertical-align: middle;\n",
       "    }\n",
       "\n",
       "    .dataframe tbody tr th {\n",
       "        vertical-align: top;\n",
       "    }\n",
       "\n",
       "    .dataframe thead th {\n",
       "        text-align: right;\n",
       "    }\n",
       "</style>\n",
       "<table border=\"1\" class=\"dataframe\">\n",
       "  <thead>\n",
       "    <tr style=\"text-align: right;\">\n",
       "      <th>3</th>\n",
       "      <th>BLOCK</th>\n",
       "      <th>LOT</th>\n",
       "      <th>TAX CLASS AT TIME OF SALE</th>\n",
       "    </tr>\n",
       "  </thead>\n",
       "  <tbody>\n",
       "    <tr>\n",
       "      <th>count</th>\n",
       "      <td>27394.000000</td>\n",
       "      <td>27394.000000</td>\n",
       "      <td>27394.000000</td>\n",
       "    </tr>\n",
       "    <tr>\n",
       "      <th>mean</th>\n",
       "      <td>1109.627656</td>\n",
       "      <td>741.813390</td>\n",
       "      <td>2.488063</td>\n",
       "    </tr>\n",
       "    <tr>\n",
       "      <th>std</th>\n",
       "      <td>465.958098</td>\n",
       "      <td>819.427506</td>\n",
       "      <td>0.891692</td>\n",
       "    </tr>\n",
       "    <tr>\n",
       "      <th>min</th>\n",
       "      <td>7.000000</td>\n",
       "      <td>1.000000</td>\n",
       "      <td>1.000000</td>\n",
       "    </tr>\n",
       "    <tr>\n",
       "      <th>25%</th>\n",
       "      <td>877.000000</td>\n",
       "      <td>37.000000</td>\n",
       "      <td>2.000000</td>\n",
       "    </tr>\n",
       "    <tr>\n",
       "      <th>50%</th>\n",
       "      <td>1047.000000</td>\n",
       "      <td>1007.000000</td>\n",
       "      <td>2.000000</td>\n",
       "    </tr>\n",
       "    <tr>\n",
       "      <th>75%</th>\n",
       "      <td>1411.000000</td>\n",
       "      <td>1233.000000</td>\n",
       "      <td>4.000000</td>\n",
       "    </tr>\n",
       "    <tr>\n",
       "      <th>max</th>\n",
       "      <td>2250.000000</td>\n",
       "      <td>9117.000000</td>\n",
       "      <td>4.000000</td>\n",
       "    </tr>\n",
       "  </tbody>\n",
       "</table>\n",
       "</div>"
      ],
      "text/plain": [
       "3             BLOCK           LOT  TAX CLASS AT TIME OF SALE\n",
       "count  27394.000000  27394.000000               27394.000000\n",
       "mean    1109.627656    741.813390                   2.488063\n",
       "std      465.958098    819.427506                   0.891692\n",
       "min        7.000000      1.000000                   1.000000\n",
       "25%      877.000000     37.000000                   2.000000\n",
       "50%     1047.000000   1007.000000                   2.000000\n",
       "75%     1411.000000   1233.000000                   4.000000\n",
       "max     2250.000000   9117.000000                   4.000000"
      ]
     },
     "execution_count": 22,
     "metadata": {},
     "output_type": "execute_result"
    }
   ],
   "source": [
    "df.describe()"
   ]
  },
  {
   "cell_type": "markdown",
   "id": "1d4fa291",
   "metadata": {},
   "source": [
    "### dropping duplicates"
   ]
  },
  {
   "cell_type": "code",
   "execution_count": 23,
   "id": "18081f2b",
   "metadata": {},
   "outputs": [
    {
     "name": "stderr",
     "output_type": "stream",
     "text": [
      "C:\\temp\\ipykernel_4172\\3006716147.py:1: SettingWithCopyWarning: \n",
      "A value is trying to be set on a copy of a slice from a DataFrame\n",
      "\n",
      "See the caveats in the documentation: https://pandas.pydata.org/pandas-docs/stable/user_guide/indexing.html#returning-a-view-versus-a-copy\n",
      "  df.drop_duplicates(inplace=True)\n"
     ]
    }
   ],
   "source": [
    "df.drop_duplicates(inplace=True)"
   ]
  },
  {
   "cell_type": "code",
   "execution_count": 24,
   "id": "3c67f562",
   "metadata": {},
   "outputs": [
    {
     "data": {
      "text/plain": [
       "(25801, 18)"
      ]
     },
     "execution_count": 24,
     "metadata": {},
     "output_type": "execute_result"
    }
   ],
   "source": [
    "df.shape"
   ]
  },
  {
   "cell_type": "markdown",
   "id": "1f0a8b29",
   "metadata": {},
   "source": [
    "### dropping rows with NaN"
   ]
  },
  {
   "cell_type": "code",
   "execution_count": 25,
   "id": "c81d6908",
   "metadata": {},
   "outputs": [
    {
     "name": "stderr",
     "output_type": "stream",
     "text": [
      "C:\\temp\\ipykernel_4172\\1379821321.py:1: SettingWithCopyWarning: \n",
      "A value is trying to be set on a copy of a slice from a DataFrame\n",
      "\n",
      "See the caveats in the documentation: https://pandas.pydata.org/pandas-docs/stable/user_guide/indexing.html#returning-a-view-versus-a-copy\n",
      "  df.dropna(inplace=True)\n"
     ]
    }
   ],
   "source": [
    "df.dropna(inplace=True)"
   ]
  },
  {
   "cell_type": "code",
   "execution_count": 26,
   "id": "b724d64a",
   "metadata": {},
   "outputs": [
    {
     "data": {
      "text/plain": [
       "(470, 18)"
      ]
     },
     "execution_count": 26,
     "metadata": {},
     "output_type": "execute_result"
    }
   ],
   "source": [
    "df.shape"
   ]
  },
  {
   "cell_type": "markdown",
   "id": "3526895e",
   "metadata": {},
   "source": [
    "### identify and remove outliers if any and showing shape"
   ]
  },
  {
   "cell_type": "code",
   "execution_count": 27,
   "id": "7beca5fa",
   "metadata": {},
   "outputs": [],
   "source": [
    "z_scores = np.abs(stats.zscore(df.select_dtypes(include=np.number)))\n",
    "df = df[(z_scores < 3).all(axis=1)]"
   ]
  },
  {
   "cell_type": "code",
   "execution_count": 28,
   "id": "7779024b",
   "metadata": {},
   "outputs": [
    {
     "data": {
      "text/plain": [
       "(467, 18)"
      ]
     },
     "execution_count": 28,
     "metadata": {},
     "output_type": "execute_result"
    }
   ],
   "source": [
    "df.shape"
   ]
  },
  {
   "cell_type": "markdown",
   "id": "d3b50df1",
   "metadata": {},
   "source": [
    "### Consider the log of the prices and normalise the data"
   ]
  },
  {
   "cell_type": "code",
   "execution_count": 30,
   "id": "0f3e2643",
   "metadata": {},
   "outputs": [
    {
     "name": "stderr",
     "output_type": "stream",
     "text": [
      "C:\\temp\\ipykernel_4172\\170265380.py:1: SettingWithCopyWarning: \n",
      "A value is trying to be set on a copy of a slice from a DataFrame.\n",
      "Try using .loc[row_indexer,col_indexer] = value instead\n",
      "\n",
      "See the caveats in the documentation: https://pandas.pydata.org/pandas-docs/stable/user_guide/indexing.html#returning-a-view-versus-a-copy\n",
      "  df['SALE_PRICE'] = np.log(df['SALE_PRICE'].astype('float64'))\n"
     ]
    }
   ],
   "source": [
    "df['SALE_PRICE'] = np.log(df['SALE_PRICE'].astype('float64'))"
   ]
  },
  {
   "cell_type": "markdown",
   "id": "7b83cbfa",
   "metadata": {},
   "source": [
    "### Creating Neighborhood vs Price scatter plot visualization"
   ]
  },
  {
   "cell_type": "code",
   "execution_count": null,
   "id": "16d8f6b2",
   "metadata": {},
   "outputs": [],
   "source": []
  },
  {
   "cell_type": "code",
   "execution_count": null,
   "id": "85e99d8d",
   "metadata": {},
   "outputs": [],
   "source": []
  }
 ],
 "metadata": {
  "kernelspec": {
   "display_name": "Python 3 (ipykernel)",
   "language": "python",
   "name": "python3"
  },
  "language_info": {
   "codemirror_mode": {
    "name": "ipython",
    "version": 3
   },
   "file_extension": ".py",
   "mimetype": "text/x-python",
   "name": "python",
   "nbconvert_exporter": "python",
   "pygments_lexer": "ipython3",
   "version": "3.9.7"
  }
 },
 "nbformat": 4,
 "nbformat_minor": 5
}
